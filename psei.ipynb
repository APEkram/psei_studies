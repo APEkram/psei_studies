{
 "cells": [
  {
   "cell_type": "markdown",
   "metadata": {},
   "source": [
    "# Modeling Stock Returns"
   ]
  },
  {
   "cell_type": "code",
   "execution_count": 1,
   "metadata": {},
   "outputs": [],
   "source": [
    "import numpy as np\n",
    "import pandas as pd\n",
    "import matplotlib.pyplot as plt\n",
    "import seaborn as sns\n",
    "from scipy.stats import norm"
   ]
  },
  {
   "cell_type": "code",
   "execution_count": 2,
   "metadata": {},
   "outputs": [
    {
     "data": {
      "text/html": [
       "<div>\n",
       "<style scoped>\n",
       "    .dataframe tbody tr th:only-of-type {\n",
       "        vertical-align: middle;\n",
       "    }\n",
       "\n",
       "    .dataframe tbody tr th {\n",
       "        vertical-align: top;\n",
       "    }\n",
       "\n",
       "    .dataframe thead th {\n",
       "        text-align: right;\n",
       "    }\n",
       "</style>\n",
       "<table border=\"1\" class=\"dataframe\">\n",
       "  <thead>\n",
       "    <tr style=\"text-align: right;\">\n",
       "      <th></th>\n",
       "      <th>Open</th>\n",
       "      <th>High</th>\n",
       "      <th>Low</th>\n",
       "      <th>Close</th>\n",
       "    </tr>\n",
       "    <tr>\n",
       "      <th>Date/Time</th>\n",
       "      <th></th>\n",
       "      <th></th>\n",
       "      <th></th>\n",
       "      <th></th>\n",
       "    </tr>\n",
       "  </thead>\n",
       "  <tbody>\n",
       "    <tr>\n",
       "      <th>1958-01-31</th>\n",
       "      <td>3.06</td>\n",
       "      <td>3.06</td>\n",
       "      <td>3.06</td>\n",
       "      <td>3.06</td>\n",
       "    </tr>\n",
       "    <tr>\n",
       "      <th>1958-02-28</th>\n",
       "      <td>2.92</td>\n",
       "      <td>2.92</td>\n",
       "      <td>2.92</td>\n",
       "      <td>2.92</td>\n",
       "    </tr>\n",
       "    <tr>\n",
       "      <th>1958-03-31</th>\n",
       "      <td>3.15</td>\n",
       "      <td>3.15</td>\n",
       "      <td>3.15</td>\n",
       "      <td>3.15</td>\n",
       "    </tr>\n",
       "    <tr>\n",
       "      <th>1958-04-30</th>\n",
       "      <td>3.45</td>\n",
       "      <td>3.45</td>\n",
       "      <td>3.45</td>\n",
       "      <td>3.45</td>\n",
       "    </tr>\n",
       "    <tr>\n",
       "      <th>1958-05-31</th>\n",
       "      <td>3.56</td>\n",
       "      <td>3.56</td>\n",
       "      <td>3.56</td>\n",
       "      <td>3.56</td>\n",
       "    </tr>\n",
       "  </tbody>\n",
       "</table>\n",
       "</div>"
      ],
      "text/plain": [
       "            Open  High   Low  Close\n",
       "Date/Time                          \n",
       "1958-01-31  3.06  3.06  3.06   3.06\n",
       "1958-02-28  2.92  2.92  2.92   2.92\n",
       "1958-03-31  3.15  3.15  3.15   3.15\n",
       "1958-04-30  3.45  3.45  3.45   3.45\n",
       "1958-05-31  3.56  3.56  3.56   3.56"
      ]
     },
     "execution_count": 2,
     "metadata": {},
     "output_type": "execute_result"
    }
   ],
   "source": [
    "psei = pd.read_csv('Data2.csv', index_col=1, parse_dates=True)\n",
    "psei = psei.iloc[:, 1:-1]\n",
    "psei.head()"
   ]
  },
  {
   "cell_type": "code",
   "execution_count": 3,
   "metadata": {},
   "outputs": [
    {
     "data": {
      "text/html": [
       "<div>\n",
       "<style scoped>\n",
       "    .dataframe tbody tr th:only-of-type {\n",
       "        vertical-align: middle;\n",
       "    }\n",
       "\n",
       "    .dataframe tbody tr th {\n",
       "        vertical-align: top;\n",
       "    }\n",
       "\n",
       "    .dataframe thead th {\n",
       "        text-align: right;\n",
       "    }\n",
       "</style>\n",
       "<table border=\"1\" class=\"dataframe\">\n",
       "  <thead>\n",
       "    <tr style=\"text-align: right;\">\n",
       "      <th></th>\n",
       "      <th>Open</th>\n",
       "      <th>High</th>\n",
       "      <th>Low</th>\n",
       "      <th>Close</th>\n",
       "      <th>LogReturn</th>\n",
       "    </tr>\n",
       "    <tr>\n",
       "      <th>Date/Time</th>\n",
       "      <th></th>\n",
       "      <th></th>\n",
       "      <th></th>\n",
       "      <th></th>\n",
       "      <th></th>\n",
       "    </tr>\n",
       "  </thead>\n",
       "  <tbody>\n",
       "    <tr>\n",
       "      <th>1958-01-31</th>\n",
       "      <td>3.06</td>\n",
       "      <td>3.06</td>\n",
       "      <td>3.06</td>\n",
       "      <td>3.06</td>\n",
       "      <td>NaN</td>\n",
       "    </tr>\n",
       "    <tr>\n",
       "      <th>1958-02-28</th>\n",
       "      <td>2.92</td>\n",
       "      <td>2.92</td>\n",
       "      <td>2.92</td>\n",
       "      <td>2.92</td>\n",
       "      <td>-0.046831</td>\n",
       "    </tr>\n",
       "    <tr>\n",
       "      <th>1958-03-31</th>\n",
       "      <td>3.15</td>\n",
       "      <td>3.15</td>\n",
       "      <td>3.15</td>\n",
       "      <td>3.15</td>\n",
       "      <td>0.075819</td>\n",
       "    </tr>\n",
       "    <tr>\n",
       "      <th>1958-04-30</th>\n",
       "      <td>3.45</td>\n",
       "      <td>3.45</td>\n",
       "      <td>3.45</td>\n",
       "      <td>3.45</td>\n",
       "      <td>0.090972</td>\n",
       "    </tr>\n",
       "    <tr>\n",
       "      <th>1958-05-31</th>\n",
       "      <td>3.56</td>\n",
       "      <td>3.56</td>\n",
       "      <td>3.56</td>\n",
       "      <td>3.56</td>\n",
       "      <td>0.031386</td>\n",
       "    </tr>\n",
       "  </tbody>\n",
       "</table>\n",
       "</div>"
      ],
      "text/plain": [
       "            Open  High   Low  Close  LogReturn\n",
       "Date/Time                                     \n",
       "1958-01-31  3.06  3.06  3.06   3.06        NaN\n",
       "1958-02-28  2.92  2.92  2.92   2.92  -0.046831\n",
       "1958-03-31  3.15  3.15  3.15   3.15   0.075819\n",
       "1958-04-30  3.45  3.45  3.45   3.45   0.090972\n",
       "1958-05-31  3.56  3.56  3.56   3.56   0.031386"
      ]
     },
     "execution_count": 3,
     "metadata": {},
     "output_type": "execute_result"
    }
   ],
   "source": [
    "psei['LogReturn'] = np.log(psei['Close']) - np.log(psei['Close'].shift(1))\n",
    "psei.head()"
   ]
  },
  {
   "cell_type": "code",
   "execution_count": 4,
   "metadata": {},
   "outputs": [
    {
     "data": {
      "text/html": [
       "<div>\n",
       "<style scoped>\n",
       "    .dataframe tbody tr th:only-of-type {\n",
       "        vertical-align: middle;\n",
       "    }\n",
       "\n",
       "    .dataframe tbody tr th {\n",
       "        vertical-align: top;\n",
       "    }\n",
       "\n",
       "    .dataframe thead th {\n",
       "        text-align: right;\n",
       "    }\n",
       "</style>\n",
       "<table border=\"1\" class=\"dataframe\">\n",
       "  <thead>\n",
       "    <tr style=\"text-align: right;\">\n",
       "      <th></th>\n",
       "      <th>Open</th>\n",
       "      <th>High</th>\n",
       "      <th>Low</th>\n",
       "      <th>Close</th>\n",
       "      <th>LogReturn</th>\n",
       "    </tr>\n",
       "    <tr>\n",
       "      <th>Date/Time</th>\n",
       "      <th></th>\n",
       "      <th></th>\n",
       "      <th></th>\n",
       "      <th></th>\n",
       "      <th></th>\n",
       "    </tr>\n",
       "  </thead>\n",
       "  <tbody>\n",
       "    <tr>\n",
       "      <th>2014-01-02</th>\n",
       "      <td>5923.7202</td>\n",
       "      <td>5984.2598</td>\n",
       "      <td>5923.7202</td>\n",
       "      <td>5984.2598</td>\n",
       "      <td>0.015906</td>\n",
       "    </tr>\n",
       "    <tr>\n",
       "      <th>2014-01-03</th>\n",
       "      <td>5971.3599</td>\n",
       "      <td>5971.3599</td>\n",
       "      <td>5903.7700</td>\n",
       "      <td>5947.9302</td>\n",
       "      <td>-0.006089</td>\n",
       "    </tr>\n",
       "    <tr>\n",
       "      <th>2014-01-06</th>\n",
       "      <td>5950.3901</td>\n",
       "      <td>5992.9800</td>\n",
       "      <td>5932.5098</td>\n",
       "      <td>5985.8101</td>\n",
       "      <td>0.006348</td>\n",
       "    </tr>\n",
       "    <tr>\n",
       "      <th>2014-01-07</th>\n",
       "      <td>5986.1802</td>\n",
       "      <td>5991.9302</td>\n",
       "      <td>5946.7202</td>\n",
       "      <td>5947.4399</td>\n",
       "      <td>-0.006431</td>\n",
       "    </tr>\n",
       "    <tr>\n",
       "      <th>2014-01-08</th>\n",
       "      <td>5948.2998</td>\n",
       "      <td>5995.0698</td>\n",
       "      <td>5942.6802</td>\n",
       "      <td>5986.4800</td>\n",
       "      <td>0.006543</td>\n",
       "    </tr>\n",
       "  </tbody>\n",
       "</table>\n",
       "</div>"
      ],
      "text/plain": [
       "                 Open       High        Low      Close  LogReturn\n",
       "Date/Time                                                        \n",
       "2014-01-02  5923.7202  5984.2598  5923.7202  5984.2598   0.015906\n",
       "2014-01-03  5971.3599  5971.3599  5903.7700  5947.9302  -0.006089\n",
       "2014-01-06  5950.3901  5992.9800  5932.5098  5985.8101   0.006348\n",
       "2014-01-07  5986.1802  5991.9302  5946.7202  5947.4399  -0.006431\n",
       "2014-01-08  5948.2998  5995.0698  5942.6802  5986.4800   0.006543"
      ]
     },
     "execution_count": 4,
     "metadata": {},
     "output_type": "execute_result"
    }
   ],
   "source": [
    "psei_2014 = psei['2014-01-01':]\n",
    "psei_2014.head()"
   ]
  },
  {
   "cell_type": "code",
   "execution_count": 40,
   "metadata": {},
   "outputs": [],
   "source": [
    "mu = psei_2014['LogReturn'].mean()\n",
    "sigma = psei_2014['LogReturn'].std(ddof=1)\n",
    "\n",
    "density = pd.DataFrame()\n",
    "density['x'] = np.arange(psei_2014['LogReturn'].min() - 0.01,\n",
    "                        psei_2014['LogReturn'].max() + 0.01,\n",
    "                        0.001)\n",
    "density['pdf'] = norm.pdf(density['x'], mu, sigma)"
   ]
  },
  {
   "cell_type": "code",
   "execution_count": 52,
   "metadata": {},
   "outputs": [
    {
     "data": {
      "image/png": "[encoded data removed]",
      "text/plain": [
       "<Figure size 1080x576 with 2 Axes>"
      ]
     },
     "metadata": {
      "needs_background": "light"
     },
     "output_type": "display_data"
    }
   ],
   "source": [
    "fig, ax = plt.subplots(2, 1, figsize=(15, 8))\n",
    "\n",
    "psei_2014['LogReturn'].hist(bins=50, ax = ax[0])\n",
    "ax[0].plot(density['x'], density['pdf'], color='red');\n",
    "\n",
    "psei_2014['LogReturn'].plot(ax=ax[1])\n",
    "ax[1].axhline(0, color='red');"
   ]
  },
  {
   "cell_type": "markdown",
   "metadata": {},
   "source": [
    "# Compute probs"
   ]
  },
  {
   "cell_type": "code",
   "execution_count": 6,
   "metadata": {},
   "outputs": [
    {
     "name": "stdout",
     "output_type": "stream",
     "text": [
      "Probability of a 5% drop: 8.800491578561898e-08\n",
      "Probability of a 10% drop: 9.435772889396671e-26\n"
     ]
    }
   ],
   "source": [
    "print(f'Probability of a 5% drop: {norm.cdf(-0.05, mu, sigma)}')\n",
    "print(f'Probability of a 10% drop: {norm.cdf(-0.1, mu, sigma)}')"
   ]
  },
  {
   "cell_type": "code",
   "execution_count": 7,
   "metadata": {},
   "outputs": [
    {
     "name": "stdout",
     "output_type": "stream",
     "text": [
      "Probability of a 20% drop in a year: 0.04444052550908148\n",
      "Probability of a 40% drop in a year: 0.0009531429701294485\n"
     ]
    }
   ],
   "source": [
    "year_mu = mu * 220\n",
    "year_sigma = sigma * np.sqrt(220)\n",
    "print(f'Probability of a 20% drop in a year: {norm.cdf(-0.2, year_mu, year_sigma)}')\n",
    "print(f'Probability of a 40% drop in a year: {norm.cdf(-0.4, year_mu, year_sigma)}')"
   ]
  },
  {
   "cell_type": "markdown",
   "metadata": {},
   "source": [
    "# VAR"
   ]
  },
  {
   "cell_type": "code",
   "execution_count": 8,
   "metadata": {},
   "outputs": [
    {
     "name": "stdout",
     "output_type": "stream",
     "text": [
      "Single day 5% VAR: -0.015613772832240705\n",
      "95% quantile: 0.016000186069839134\n"
     ]
    }
   ],
   "source": [
    "print(f'Single day 5% VAR: {norm.ppf(0.05, mu, sigma)}')\n",
    "print(f'95% quantile: {norm.ppf(0.95, mu, sigma)}')"
   ]
  },
  {
   "cell_type": "code",
   "execution_count": 9,
   "metadata": {},
   "outputs": [
    {
     "name": "stdout",
     "output_type": "stream",
     "text": [
      "25% quantile: -0.006288613676084114\n",
      "75% quantile: 0.006675026913682549\n"
     ]
    }
   ],
   "source": [
    "print(f'25% quantile: {norm.ppf(0.25, mu, sigma)}')\n",
    "print(f'75% quantile: {norm.ppf(0.75, mu, sigma)}')"
   ]
  },
  {
   "cell_type": "markdown",
   "metadata": {},
   "source": [
    "# Hypothesis Testing"
   ]
  },
  {
   "cell_type": "code",
   "execution_count": 53,
   "metadata": {},
   "outputs": [
    {
     "name": "stdout",
     "output_type": "stream",
     "text": [
      "90% confidence interval of avg returns: (-0.00022406893113790713, 0.000610482168736342)\n"
     ]
    }
   ],
   "source": [
    "n = psei_2014.shape[0]\n",
    "std_error = sigma / np.sqrt(n)\n",
    "\n",
    "z_left = norm.ppf(0.05)\n",
    "z_right = norm.ppf(0.95)\n",
    "\n",
    "left_interval = mu + z_left * std_error\n",
    "right_interval = mu + z_right * std_error\n",
    "\n",
    "print(f'90% confidence interval of avg returns: {left_interval, right_interval}')"
   ]
  },
  {
   "cell_type": "markdown",
   "metadata": {},
   "source": [
    "# Test Statistic"
   ]
  },
  {
   "cell_type": "code",
   "execution_count": 57,
   "metadata": {},
   "outputs": [
    {
     "data": {
      "text/plain": [
       "0.7615989188218898"
      ]
     },
     "execution_count": 57,
     "metadata": {},
     "output_type": "execute_result"
    }
   ],
   "source": [
    "zhat = (mu - 0) / (std_error)\n",
    "zhat"
   ]
  },
  {
   "cell_type": "code",
   "execution_count": 59,
   "metadata": {},
   "outputs": [
    {
     "name": "stdout",
     "output_type": "stream",
     "text": [
      "Two tailed: (-1.9599639845400545, 1.9599639845400545)\n",
      "At 0.05 signifance level, reject null: False\n"
     ]
    }
   ],
   "source": [
    "alpha = 0.05\n",
    "\n",
    "zleft = norm.ppf(alpha/2)\n",
    "zright = -zleft\n",
    "\n",
    "print(f'Two tailed: {zleft, zright}')\n",
    "print(f'At {alpha} signifance level, reject null: {zhat > zright}')"
   ]
  },
  {
   "cell_type": "code",
   "execution_count": 60,
   "metadata": {},
   "outputs": [
    {
     "name": "stdout",
     "output_type": "stream",
     "text": [
      "One tail: 1.6448536269514722\n",
      "At 0.05 signifance level, reject null: False\n"
     ]
    }
   ],
   "source": [
    "zright = norm.ppf(1-alpha)\n",
    "\n",
    "print(f'One tail: {zright}')\n",
    "print(f'At {alpha} signifance level, reject null: {zhat > zright}')"
   ]
  },
  {
   "cell_type": "markdown",
   "metadata": {},
   "source": [
    "# P Value"
   ]
  },
  {
   "cell_type": "code",
   "execution_count": 63,
   "metadata": {},
   "outputs": [
    {
     "name": "stdout",
     "output_type": "stream",
     "text": [
      "p value: 0.22314971015879648\n",
      "At 0.05 significance level, reject null: False\n"
     ]
    }
   ],
   "source": [
    "p = 1 - norm.cdf(zhat)\n",
    "\n",
    "print(f'p value: {p}')\n",
    "print(f'At {alpha} significance level, reject null: {p < alpha}')"
   ]
  },
  {
   "cell_type": "code",
   "execution_count": null,
   "metadata": {},
   "outputs": [],
   "source": []
  }
 ],
 "metadata": {
  "kernelspec": {
   "display_name": "Python 3",
   "language": "python",
   "name": "python3"
  },
  "language_info": {
   "codemirror_mode": {
    "name": "ipython",
    "version": 3
   },
   "file_extension": ".py",
   "mimetype": "text/x-python",
   "name": "python",
   "nbconvert_exporter": "python",
   "pygments_lexer": "ipython3",
   "version": "3.7.9"
  }
 },
 "nbformat": 4,
 "nbformat_minor": 4
}
